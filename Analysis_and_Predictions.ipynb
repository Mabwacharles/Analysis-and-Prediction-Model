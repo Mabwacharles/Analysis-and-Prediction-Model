{
 "cells": [
  {
   "cell_type": "code",
   "execution_count": 1,
   "metadata": {},
   "outputs": [],
   "source": [
    "# Python 3\n",
    "# Required libraries\n",
    "from datetime import timedelta\n",
    "from dateutil import parser\n",
    "import seaborn as sns\n",
    "import pandas as pd\n",
    "import numpy as np\n",
    "import warnings\n",
    "import re\n",
    "\n",
    "warnings.filterwarnings(\"ignore\")"
   ]
  },
  {
   "cell_type": "code",
   "execution_count": 2,
   "metadata": {},
   "outputs": [],
   "source": [
    "# Import csv file:\n",
    "data = pd.read_csv(r'Data/code_languages.csv')"
   ]
  },
  {
   "cell_type": "markdown",
   "metadata": {},
   "source": [
    "## Cleaning data"
   ]
  },
  {
   "cell_type": "code",
   "execution_count": 3,
   "metadata": {},
   "outputs": [],
   "source": [
    "# Extract tool name from title:\n",
    "# Names of tools:\n",
    "tools = ['SQL', 'MySQL','Excel','Tableau', 'Azure', 'AWS','R']\n",
    "pat = '|'.join(r\"\\b{}\\b\".format(x) for x in tools)\n",
    "\n",
    "data['tool'] = data['title'].str.extract('('+ pat + ')', expand=False, flags=re.I)\n",
    "\n",
    "# Extract the age of  video; time past since video was posted:\n",
    "data['duration_from_posted'] = data.published_date.str.extract('(\\d+)')\n",
    "\n",
    "\n",
    "# Length of the video in seconds\n",
    "data['length'] = data['length'].str.strip()\n",
    "data['length'] = pd.to_datetime(data['length'],format='%H:%M:%S',errors='coerce').fillna(pd.to_datetime(data['length'], format='%M:%S', errors='coerce'))\n",
    "\n",
    "time = pd.to_datetime('1900-01-01 00:00:00', format =  \"%Y-%m-%d %H:%M:%S\")\n",
    "time_delta = (data['length']  - time).astype('timedelta64[s]')\n",
    "data['length'] = time_delta\n",
    "\n",
    "# Replace NA in channel.verified assuming missing means False\n",
    "data[ 'channel.verified'] = data[ 'channel.verified'].replace(np.nan, \"False\")"
   ]
  },
  {
   "cell_type": "markdown",
   "metadata": {},
   "source": [
    "## Required data"
   ]
  },
  {
   "cell_type": "code",
   "execution_count": 4,
   "metadata": {},
   "outputs": [],
   "source": [
    "# Required data:\n",
    "cols = ['tool', 'duration_from_posted', 'length', 'channel.verified', 'views']\n",
    "req_data = data[cols]"
   ]
  },
  {
   "cell_type": "code",
   "execution_count": 5,
   "metadata": {},
   "outputs": [
    {
     "data": {
      "text/plain": [
       "<AxesSubplot:>"
      ]
     },
     "execution_count": 5,
     "metadata": {},
     "output_type": "execute_result"
    },
    {
     "data": {
      "image/png": "[encoded data removed]",
      "text/plain": [
       "<Figure size 432x288 with 2 Axes>"
      ]
     },
     "metadata": {
      "needs_background": "light"
     },
     "output_type": "display_data"
    }
   ],
   "source": [
    "# Correlation heatmap\n",
    "num_data = req_data[['duration_from_posted', 'length', 'views']]\n",
    "cols = ['duration_from_posted', 'views', 'length']\n",
    "\n",
    "# Convert all columns to numeric\n",
    "num_data[cols] = num_data[cols].apply(lambda x: pd.to_numeric(x, errors='coerce'))\n",
    "\n",
    "# Drop all missing values\n",
    "num_data = num_data.dropna()\n",
    "\n",
    "# View heatmap\n",
    "sns.heatmap(num_data.corr(),  annot=True)"
   ]
  },
  {
   "cell_type": "markdown",
   "metadata": {},
   "source": [
    "## Data Training & Regression Model"
   ]
  },
  {
   "cell_type": "code",
   "execution_count": 6,
   "metadata": {},
   "outputs": [
    {
     "name": "stdout",
     "output_type": "stream",
     "text": [
      "Coefficients: [2.24447488e+03 1.43589143e+00]\n",
      "Intercept: 1131596.7122364428\n",
      "Mean squared error (MSE): 5304923880052.27\n",
      "Coefficient of determination (R^2): 0.00\n"
     ]
    }
   ],
   "source": [
    "# Divide data into attributes and labels\n",
    "X = num_data.iloc[:, 0:2].values\n",
    "y = num_data.iloc[:, 2].values #Views\n",
    "\n",
    "# Divide the data into training and testing sets\n",
    "from sklearn.model_selection import train_test_split\n",
    "X_train, X_test, y_train, y_test = train_test_split(X, y, test_size=0.2, random_state=0)\n",
    "\n",
    "\n",
    "# Training a linear regression model\n",
    "from sklearn import linear_model\n",
    "from sklearn.metrics import mean_squared_error, r2_score\n",
    "\n",
    "# Build model\n",
    "model = linear_model.LinearRegression()\n",
    "model.fit(X_train, y_train)\n",
    "\n",
    "# #  Apply trained model to predict logS from the training and test set\n",
    "y_pred_train = model.predict(X_train)\n",
    "\n",
    "\n",
    "print('Coefficients:', model.coef_)\n",
    "print('Intercept:', model.intercept_)\n",
    "print('Mean squared error (MSE): %.2f'\n",
    "      % mean_squared_error(y_train, y_pred_train))\n",
    "print('Coefficient of determination (R^2): %.2f'\n",
    "      % r2_score(y_train, y_pred_train))"
   ]
  },
  {
   "cell_type": "code",
   "execution_count": 7,
   "metadata": {},
   "outputs": [
    {
     "name": "stdout",
     "output_type": "stream",
     "text": [
      "Coefficients: [2.24447488e+03 1.43589143e+00]\n",
      "Intercept: 1131596.7122364428\n",
      "Mean squared error (MSE): 1293437693516.65\n",
      "Coefficient of determination (R^2): -0.20\n"
     ]
    }
   ],
   "source": [
    "#  apply the trained model to make predictions on the test set\n",
    "y_pred_test = model.predict(X_test)\n",
    "\n",
    "# Evaluation\n",
    "print('Coefficients:', model.coef_)\n",
    "print('Intercept:', model.intercept_)\n",
    "print('Mean squared error (MSE): %.2f'\n",
    "      % mean_squared_error(y_test, y_pred_test))\n",
    "print('Coefficient of determination (R^2): %.2f'\n",
    "      % r2_score(y_test, y_pred_test))"
   ]
  },
  {
   "cell_type": "code",
   "execution_count": 8,
   "metadata": {},
   "outputs": [
    {
     "name": "stdout",
     "output_type": "stream",
     "text": [
      "Views =  1131596.71 + 2244.47 dp + 1.4359 lt\n"
     ]
    }
   ],
   "source": [
    "# Regression equation\n",
    "yintercept = '%.2f' % model.intercept_\n",
    "dp = '%.2f dp' % model.coef_[0]\n",
    "lt = '%.4f lt' % model.coef_[1]\n",
    "\n",
    "print('Views = ', yintercept,  '+', dp, '+', lt )"
   ]
  },
  {
   "cell_type": "code",
   "execution_count": 42,
   "metadata": {},
   "outputs": [
    {
     "data": {
      "image/png": "[encoded data removed]",
      "text/plain": [
       "<Figure size 792x360 with 2 Axes>"
      ]
     },
     "metadata": {
      "needs_background": "light"
     },
     "output_type": "display_data"
    }
   ],
   "source": [
    "import matplotlib.pyplot as plt\n",
    "import numpy as np\n",
    "\n",
    "plt.figure(figsize=(11,5))\n",
    "\n",
    "# 1 row, 2 column, plot 1\n",
    "plt.subplot(1, 2, 1)\n",
    "plt.scatter(x=y_train, y=y_pred_train, c=\"#7CAE00\", alpha=0.3)\n",
    "\n",
    "z = np.polyfit(y_train, y_pred_train, 1)\n",
    "p = np.poly1d(z)\n",
    "plt.plot(y_test,p(y_test),\"#F8766D\")\n",
    "\n",
    "plt.ylabel('Predicted Views')\n",
    "plt.xlabel('Experimental Views')\n",
    "\n",
    "# 1 row, 2 column, plot 2\n",
    "plt.subplot(1, 2, 2)\n",
    "plt.scatter(x=y_test, y=y_pred_test, c=\"#619CFF\", alpha=0.3)\n",
    "\n",
    "z = np.polyfit(y_test, y_pred_test, 1)\n",
    "p = np.poly1d(z)\n",
    "plt.plot(y_test,p(y_test),\"#F8766D\")\n",
    "\n",
    "plt.xlabel('Experimental Views')\n",
    "plt.show()"
   ]
  },
  {
   "cell_type": "markdown",
   "metadata": {},
   "source": [
    "# End"
   ]
  },
  {
   "cell_type": "code",
   "execution_count": null,
   "metadata": {},
   "outputs": [],
   "source": []
  }
 ],
 "metadata": {
  "interpreter": {
   "hash": "e7370f93d1d0cde622a1f8e1c04877d8463912d04d973331ad4851f04de6915a"
  },
  "kernelspec": {
   "display_name": "Python 3.9.7 64-bit",
   "name": "python3"
  },
  "language_info": {
   "codemirror_mode": {
    "name": "ipython",
    "version": 3
   },
   "file_extension": ".py",
   "mimetype": "text/x-python",
   "name": "python",
   "nbconvert_exporter": "python",
   "pygments_lexer": "ipython3",
   "version": "3.9.7"
  }
 },
 "nbformat": 4,
 "nbformat_minor": 5
}